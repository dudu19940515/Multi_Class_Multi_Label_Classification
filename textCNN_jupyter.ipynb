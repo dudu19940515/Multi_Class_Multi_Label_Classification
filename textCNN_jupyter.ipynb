{
 "cells": [
  {
   "cell_type": "code",
   "execution_count": 1,
   "metadata": {
    "collapsed": true
   },
   "outputs": [],
   "source": [
    "%load_ext autoreload\n",
    "%autoreload 2"
   ]
  },
  {
   "cell_type": "code",
   "execution_count": 2,
   "metadata": {},
   "outputs": [
    {
     "data": {
      "text/plain": [
       "'2.0.0'"
      ]
     },
     "execution_count": 2,
     "metadata": {},
     "output_type": "execute_result"
    }
   ],
   "source": [
    "import os\n",
    "import re\n",
    "import sys\n",
    "sys.path.append('/Users/doumengge/Desktop/开课吧/开课吧/project2')\n",
    "import jieba\n",
    "import pandas as pd\n",
    "import numpy as np\n",
    "import tensorflow as tf\n",
    "tf.__version__"
   ]
  },
  {
   "cell_type": "code",
   "execution_count": 10,
   "metadata": {
    "collapsed": true
   },
   "outputs": [],
   "source": [
    "vocab_size=30000\n",
    "padding_size=200"
   ]
  },
  {
   "cell_type": "code",
   "execution_count": null,
   "metadata": {
    "collapsed": true
   },
   "outputs": [],
   "source": []
  },
  {
   "cell_type": "markdown",
   "metadata": {},
   "source": [
    "## 多分类"
   ]
  },
  {
   "cell_type": "code",
   "execution_count": 9,
   "metadata": {
    "scrolled": false
   },
   "outputs": [],
   "source": [
    "from utils.data_loader import build_data"
   ]
  },
  {
   "cell_type": "code",
   "execution_count": 46,
   "metadata": {
    "collapsed": true
   },
   "outputs": [],
   "source": [
    "params={\n",
    "    'data_path':'data/baidu_95.csv',\n",
    "    'vocab_path':'data/',\n",
    "    'vocab_size':30000,\n",
    "    'padding_size':200,\n",
    "    'train_mode':\"multi_class\"\n",
    "}"
   ]
  },
  {
   "cell_type": "code",
   "execution_count": 47,
   "metadata": {
    "scrolled": true
   },
   "outputs": [
    {
     "name": "stderr",
     "output_type": "stream",
     "text": [
      "Building prefix dict from the default dictionary ...\n",
      "DEBUG:jieba:Building prefix dict from the default dictionary ...\n",
      "Loading model from cache /var/folders/z7/4h871j5s4dzdtn7prw_6mf000000gn/T/jieba.cache\n",
      "DEBUG:jieba:Loading model from cache /var/folders/z7/4h871j5s4dzdtn7prw_6mf000000gn/T/jieba.cache\n",
      "Building prefix dict from the default dictionary ...\n",
      "DEBUG:jieba:Building prefix dict from the default dictionary ...\n",
      "Loading model from cache /var/folders/z7/4h871j5s4dzdtn7prw_6mf000000gn/T/jieba.cache\n",
      "DEBUG:jieba:Loading model from cache /var/folders/z7/4h871j5s4dzdtn7prw_6mf000000gn/T/jieba.cache\n",
      "Building prefix dict from the default dictionary ...\n",
      "DEBUG:jieba:Building prefix dict from the default dictionary ...\n",
      "Loading model from cache /var/folders/z7/4h871j5s4dzdtn7prw_6mf000000gn/T/jieba.cache\n",
      "Building prefix dict from the default dictionary ...\n",
      "DEBUG:jieba:Loading model from cache /var/folders/z7/4h871j5s4dzdtn7prw_6mf000000gn/T/jieba.cache\n",
      "DEBUG:jieba:Building prefix dict from the default dictionary ...\n",
      "Loading model from cache /var/folders/z7/4h871j5s4dzdtn7prw_6mf000000gn/T/jieba.cache\n",
      "DEBUG:jieba:Loading model from cache /var/folders/z7/4h871j5s4dzdtn7prw_6mf000000gn/T/jieba.cache\n",
      "Building prefix dict from the default dictionary ...\n",
      "DEBUG:jieba:Building prefix dict from the default dictionary ...\n",
      "Loading model from cache /var/folders/z7/4h871j5s4dzdtn7prw_6mf000000gn/T/jieba.cache\n",
      "DEBUG:jieba:Loading model from cache /var/folders/z7/4h871j5s4dzdtn7prw_6mf000000gn/T/jieba.cache\n",
      "Building prefix dict from the default dictionary ...\n",
      "DEBUG:jieba:Building prefix dict from the default dictionary ...\n",
      "Building prefix dict from the default dictionary ...\n",
      "Loading model from cache /var/folders/z7/4h871j5s4dzdtn7prw_6mf000000gn/T/jieba.cache\n",
      "DEBUG:jieba:Loading model from cache /var/folders/z7/4h871j5s4dzdtn7prw_6mf000000gn/T/jieba.cache\n",
      "DEBUG:jieba:Building prefix dict from the default dictionary ...\n",
      "Loading model from cache /var/folders/z7/4h871j5s4dzdtn7prw_6mf000000gn/T/jieba.cache\n",
      "DEBUG:jieba:Loading model from cache /var/folders/z7/4h871j5s4dzdtn7prw_6mf000000gn/T/jieba.cache\n",
      "Building prefix dict from the default dictionary ...\n",
      "DEBUG:jieba:Building prefix dict from the default dictionary ...\n",
      "Loading model from cache /var/folders/z7/4h871j5s4dzdtn7prw_6mf000000gn/T/jieba.cache\n",
      "DEBUG:jieba:Loading model from cache /var/folders/z7/4h871j5s4dzdtn7prw_6mf000000gn/T/jieba.cache\n",
      "Loading model cost 1.590 seconds.\n",
      "DEBUG:jieba:Loading model cost 1.590 seconds.\n",
      "Prefix dict has been built succesfully.\n",
      "DEBUG:jieba:Prefix dict has been built succesfully.\n",
      "Loading model cost 1.602 seconds.\n",
      "DEBUG:jieba:Loading model cost 1.602 seconds.\n",
      "Prefix dict has been built succesfully.\n",
      "DEBUG:jieba:Prefix dict has been built succesfully.\n",
      "Loading model cost 1.623 seconds.\n",
      "DEBUG:jieba:Loading model cost 1.623 seconds.\n",
      "Prefix dict has been built succesfully.\n",
      "DEBUG:jieba:Prefix dict has been built succesfully.\n",
      "Loading model cost 1.719 seconds.\n",
      "Loading model cost 1.711 seconds.\n",
      "DEBUG:jieba:Loading model cost 1.719 seconds.\n",
      "Prefix dict has been built succesfully.\n",
      "DEBUG:jieba:Prefix dict has been built succesfully.\n",
      "DEBUG:jieba:Loading model cost 1.711 seconds.\n",
      "Loading model cost 1.606 seconds.\n",
      "DEBUG:jieba:Loading model cost 1.606 seconds.\n",
      "Prefix dict has been built succesfully.\n",
      "DEBUG:jieba:Prefix dict has been built succesfully.\n",
      "Prefix dict has been built succesfully.\n",
      "DEBUG:jieba:Prefix dict has been built succesfully.\n",
      "Loading model cost 1.565 seconds.\n",
      "DEBUG:jieba:Loading model cost 1.565 seconds.\n",
      "Prefix dict has been built succesfully.\n",
      "DEBUG:jieba:Prefix dict has been built succesfully.\n",
      "Loading model cost 1.676 seconds.\n",
      "DEBUG:jieba:Loading model cost 1.676 seconds.\n",
      "Prefix dict has been built succesfully.\n",
      "DEBUG:jieba:Prefix dict has been built succesfully.\n"
     ]
    },
    {
     "name": "stdout",
     "output_type": "stream",
     "text": [
      "class category:  {'历史', '政治', '地理', '生物'}\n"
     ]
    }
   ],
   "source": [
    "X_train, X_test, y_train, y_test = build_data(params)"
   ]
  },
  {
   "cell_type": "code",
   "execution_count": 23,
   "metadata": {},
   "outputs": [],
   "source": [
    "feature_size=padding_size\n",
    "embed_size=300\n",
    "num_classes=len(y_train[0])\n",
    "filter_sizes=[2,3,4]\n",
    "dropout_rate=0.5\n",
    "regularizers_lambda=0.01\n",
    "learning_rate=0.01\n",
    "batch_size=512\n",
    "epochs=5"
   ]
  },
  {
   "cell_type": "code",
   "execution_count": 21,
   "metadata": {},
   "outputs": [],
   "source": [
    "from utils.metrics import macro_f1,micro_f1"
   ]
  },
  {
   "cell_type": "code",
   "execution_count": 41,
   "metadata": {
    "collapsed": true
   },
   "outputs": [],
   "source": [
    "from model.TextCNN.TextCNN import TextCNN"
   ]
  },
  {
   "cell_type": "code",
   "execution_count": 44,
   "metadata": {
    "collapsed": true
   },
   "outputs": [],
   "source": [
    "from tensorflow.keras.callbacks import EarlyStopping\n",
    "from pprint import pprint"
   ]
  },
  {
   "cell_type": "code",
   "execution_count": null,
   "metadata": {
    "collapsed": true
   },
   "outputs": [],
   "source": [
    "feature_size, num_classes, vocab_size,\n",
    "                 embed_size, filter_sizes, num_filters, dropout_rate,regularizers_lambda,\n",
    "                 embedding_matrix,train_mode,model_img_path=None):"
   ]
  },
  {
   "cell_type": "code",
   "execution_count": 42,
   "metadata": {},
   "outputs": [
    {
     "name": "stdout",
     "output_type": "stream",
     "text": [
      "train_mode is: multi_class\n",
      "Model: \"model\"\n",
      "__________________________________________________________________________________________________\n",
      "Layer (type)                    Output Shape         Param #     Connected to                     \n",
      "==================================================================================================\n",
      "input_data (InputLayer)         [(None, 200)]        0                                            \n",
      "__________________________________________________________________________________________________\n",
      "embedding_5 (Embedding)         (None, 200, 300)     9000000     input_data[0][0]                 \n",
      "__________________________________________________________________________________________________\n",
      "add_channel (Reshape)           (None, 200, 300, 1)  0           embedding_5[0][0]                \n",
      "__________________________________________________________________________________________________\n",
      "convolution_2 (Conv2D)          (None, 199, 1, 2)    1202        add_channel[0][0]                \n",
      "__________________________________________________________________________________________________\n",
      "convolution_3 (Conv2D)          (None, 198, 1, 2)    1802        add_channel[0][0]                \n",
      "__________________________________________________________________________________________________\n",
      "convolution_4 (Conv2D)          (None, 197, 1, 2)    2402        add_channel[0][0]                \n",
      "__________________________________________________________________________________________________\n",
      "max_pooling_2 (MaxPooling2D)    (None, 1, 1, 2)      0           convolution_2[0][0]              \n",
      "__________________________________________________________________________________________________\n",
      "max_pooling_3 (MaxPooling2D)    (None, 1, 1, 2)      0           convolution_3[0][0]              \n",
      "__________________________________________________________________________________________________\n",
      "max_pooling_4 (MaxPooling2D)    (None, 1, 1, 2)      0           convolution_4[0][0]              \n",
      "__________________________________________________________________________________________________\n",
      "concatenate (Concatenate)       (None, 1, 1, 6)      0           max_pooling_2[0][0]              \n",
      "                                                                 max_pooling_3[0][0]              \n",
      "                                                                 max_pooling_4[0][0]              \n",
      "__________________________________________________________________________________________________\n",
      "flatten (Flatten)               (None, 6)            0           concatenate[0][0]                \n",
      "__________________________________________________________________________________________________\n",
      "dropout (Dropout)               (None, 6)            0           flatten[0][0]                    \n",
      "__________________________________________________________________________________________________\n",
      "dense (Dense)                   (None, 4)            28          dropout[0][0]                    \n",
      "==================================================================================================\n",
      "Total params: 9,005,434\n",
      "Trainable params: 9,005,434\n",
      "Non-trainable params: 0\n",
      "__________________________________________________________________________________________________\n"
     ]
    }
   ],
   "source": [
    "textcnn =TextCNN(feature_size=feature_size, num_classes=num_classes,vocab_size=vocab_size, embed_size=embed_size, \n",
    "              filter_sizes = filter_sizes,num_filters = 2,train_mode = params['train_mode'])\n",
    "model = textcnn.build_model()\n",
    "model.compile(tf.optimizers.Adam(learning_rate=learning_rate), \n",
    "              loss='categorical_crossentropy',\n",
    "              metrics=[micro_f1, macro_f1])"
   ]
  },
  {
   "cell_type": "code",
   "execution_count": 48,
   "metadata": {
    "scrolled": true
   },
   "outputs": [
    {
     "name": "stdout",
     "output_type": "stream",
     "text": [
      "Train...\n",
      "Train on 18060 samples, validate on 4516 samples\n",
      "Epoch 1/5\n",
      "18060/18060 [==============================] - 35s 2ms/sample - loss: 0.3835 - micro_f1: 0.8141 - macro_f1: 0.6605 - val_loss: 0.0654 - val_micro_f1: 0.9805 - val_macro_f1: 0.9635\n",
      "Epoch 2/5\n",
      "18060/18060 [==============================] - 36s 2ms/sample - loss: 0.0175 - micro_f1: 0.9944 - macro_f1: 0.9894 - val_loss: 0.0427 - val_micro_f1: 0.9877 - val_macro_f1: 0.9758\n",
      "Epoch 3/5\n",
      "18060/18060 [==============================] - 37s 2ms/sample - loss: 0.0023 - micro_f1: 0.9997 - macro_f1: 0.9994 - val_loss: 0.0365 - val_micro_f1: 0.9884 - val_macro_f1: 0.9778\n",
      "Epoch 4/5\n",
      "18060/18060 [==============================] - 35s 2ms/sample - loss: 6.1809e-04 - micro_f1: 0.9999 - macro_f1: 0.9997 - val_loss: 0.0359 - val_micro_f1: 0.9896 - val_macro_f1: 0.9801\n",
      "Epoch 5/5\n",
      "18060/18060 [==============================] - 35s 2ms/sample - loss: 1.9752e-04 - micro_f1: 1.0000 - macro_f1: 1.0000 - val_loss: 0.0360 - val_micro_f1: 0.9894 - val_macro_f1: 0.9801\n"
     ]
    }
   ],
   "source": [
    "print('Train...')\n",
    "early_stopping = EarlyStopping(monitor='val_micro_f1', patience=10, mode='max')\n",
    "\n",
    "history = model.fit(X_train, y_train,\n",
    "          batch_size=batch_size,\n",
    "          epochs=epochs,\n",
    "          workers=32,\n",
    "          use_multiprocessing=True,\n",
    "          callbacks=[early_stopping],\n",
    "          validation_data=(X_test, y_test))"
   ]
  },
  {
   "cell_type": "code",
   "execution_count": 49,
   "metadata": {},
   "outputs": [
    {
     "data": {
      "image/png": "[encoded data removed]",
      "text/plain": [
       "<Figure size 432x288 with 1 Axes>"
      ]
     },
     "metadata": {
      "needs_background": "light"
     },
     "output_type": "display_data"
    }
   ],
   "source": [
    "import matplotlib.pyplot as plt\n",
    "\n",
    "history_dict = history.history\n",
    "history_dict.keys()\n",
    "\n",
    "micro_f1 = history_dict['micro_f1']\n",
    "val_micro_f1 = history_dict['val_micro_f1']\n",
    "loss = history_dict['loss']\n",
    "val_loss = history_dict['val_loss']\n",
    "\n",
    "epochs = range(1, len(micro_f1) + 1)\n",
    "\n",
    "# “bo”代表 \"蓝点\"\n",
    "plt.plot(epochs, loss, 'bo', label='Training loss')\n",
    "# b代表“蓝色实线”\n",
    "plt.plot(epochs, val_loss, 'b', label='Validation loss')\n",
    "plt.title('Training and validation loss')\n",
    "plt.xlabel('Epochs')\n",
    "plt.ylabel('Loss')\n",
    "plt.legend()\n",
    "\n",
    "plt.show()"
   ]
  },
  {
   "cell_type": "code",
   "execution_count": 50,
   "metadata": {},
   "outputs": [
    {
     "data": {
      "image/png": "[encoded data removed]",
      "text/plain": [
       "<Figure size 432x288 with 1 Axes>"
      ]
     },
     "metadata": {
      "needs_background": "light"
     },
     "output_type": "display_data"
    }
   ],
   "source": [
    "plt.clf()   # 清除数字\n",
    "\n",
    "plt.plot(epochs, micro_f1, 'bo', label='Training micro_f1')\n",
    "plt.plot(epochs, val_micro_f1, 'b', label='Validation val_micro_f1')\n",
    "plt.title('Training and validation micro_f1')\n",
    "plt.xlabel('Epochs')\n",
    "plt.ylabel('Accuracy')\n",
    "plt.legend()\n",
    "\n",
    "plt.show()"
   ]
  },
  {
   "cell_type": "code",
   "execution_count": 51,
   "metadata": {
    "collapsed": true
   },
   "outputs": [],
   "source": [
    "from utils.plot_utils import plot_confusion_matrix\n",
    "from sklearn.metrics import classification_report,confusion_matrix"
   ]
  },
  {
   "cell_type": "code",
   "execution_count": 52,
   "metadata": {
    "collapsed": true
   },
   "outputs": [],
   "source": [
    "y_pred=model.predict(X_test)"
   ]
  },
  {
   "cell_type": "code",
   "execution_count": 53,
   "metadata": {
    "collapsed": true
   },
   "outputs": [],
   "source": [
    "y_pred=np.argmax(y_pred,axis=1)\n",
    "y_true=np.argmax(y_test,axis=1)"
   ]
  },
  {
   "cell_type": "code",
   "execution_count": 54,
   "metadata": {},
   "outputs": [
    {
     "name": "stdout",
     "output_type": "stream",
     "text": [
      "              precision    recall  f1-score   support\n",
      "\n",
      "           0       0.96      0.97      0.96       516\n",
      "           1       0.98      0.98      0.98       943\n",
      "           2       0.97      0.98      0.97       393\n",
      "           3       1.00      1.00      1.00      2664\n",
      "\n",
      "    accuracy                           0.99      4516\n",
      "   macro avg       0.98      0.98      0.98      4516\n",
      "weighted avg       0.99      0.99      0.99      4516\n",
      "\n"
     ]
    }
   ],
   "source": [
    "print(classification_report(y_true,y_pred))"
   ]
  },
  {
   "cell_type": "code",
   "execution_count": 58,
   "metadata": {},
   "outputs": [
    {
     "data": {
      "image/png": "[encoded data removed]",
      "text/plain": [
       "<Figure size 432x288 with 2 Axes>"
      ]
     },
     "metadata": {
      "needs_background": "light"
     },
     "output_type": "display_data"
    }
   ],
   "source": [
    "# 计算混淆矩阵\n",
    "conf_mat=confusion_matrix(y_true,y_pred)\n",
    "# 画混淆矩阵\n",
    "plot_confusion_matrix(conf_mat,classes=[0,1,2,3])"
   ]
  },
  {
   "cell_type": "markdown",
   "metadata": {},
   "source": [
    "## multilabel"
   ]
  },
  {
   "cell_type": "code",
   "execution_count": 59,
   "metadata": {},
   "outputs": [
    {
     "name": "stderr",
     "output_type": "stream",
     "text": [
      "Building prefix dict from the default dictionary ...\n",
      "DEBUG:jieba:Building prefix dict from the default dictionary ...\n",
      "Loading model from cache /var/folders/z7/4h871j5s4dzdtn7prw_6mf000000gn/T/jieba.cache\n",
      "DEBUG:jieba:Loading model from cache /var/folders/z7/4h871j5s4dzdtn7prw_6mf000000gn/T/jieba.cache\n",
      "Building prefix dict from the default dictionary ...\n",
      "DEBUG:jieba:Building prefix dict from the default dictionary ...\n",
      "Loading model from cache /var/folders/z7/4h871j5s4dzdtn7prw_6mf000000gn/T/jieba.cache\n",
      "Building prefix dict from the default dictionary ...\n",
      "DEBUG:jieba:Building prefix dict from the default dictionary ...\n",
      "DEBUG:jieba:Loading model from cache /var/folders/z7/4h871j5s4dzdtn7prw_6mf000000gn/T/jieba.cache\n",
      "Loading model from cache /var/folders/z7/4h871j5s4dzdtn7prw_6mf000000gn/T/jieba.cache\n",
      "DEBUG:jieba:Loading model from cache /var/folders/z7/4h871j5s4dzdtn7prw_6mf000000gn/T/jieba.cache\n",
      "Building prefix dict from the default dictionary ...\n",
      "DEBUG:jieba:Building prefix dict from the default dictionary ...\n",
      "Loading model from cache /var/folders/z7/4h871j5s4dzdtn7prw_6mf000000gn/T/jieba.cache\n",
      "Building prefix dict from the default dictionary ...\n",
      "DEBUG:jieba:Building prefix dict from the default dictionary ...\n",
      "DEBUG:jieba:Loading model from cache /var/folders/z7/4h871j5s4dzdtn7prw_6mf000000gn/T/jieba.cache\n",
      "Loading model from cache /var/folders/z7/4h871j5s4dzdtn7prw_6mf000000gn/T/jieba.cache\n",
      "DEBUG:jieba:Loading model from cache /var/folders/z7/4h871j5s4dzdtn7prw_6mf000000gn/T/jieba.cache\n",
      "Building prefix dict from the default dictionary ...\n",
      "DEBUG:jieba:Building prefix dict from the default dictionary ...\n",
      "Loading model from cache /var/folders/z7/4h871j5s4dzdtn7prw_6mf000000gn/T/jieba.cache\n",
      "DEBUG:jieba:Loading model from cache /var/folders/z7/4h871j5s4dzdtn7prw_6mf000000gn/T/jieba.cache\n",
      "Building prefix dict from the default dictionary ...\n",
      "DEBUG:jieba:Building prefix dict from the default dictionary ...\n",
      "Loading model from cache /var/folders/z7/4h871j5s4dzdtn7prw_6mf000000gn/T/jieba.cache\n",
      "DEBUG:jieba:Loading model from cache /var/folders/z7/4h871j5s4dzdtn7prw_6mf000000gn/T/jieba.cache\n",
      "Building prefix dict from the default dictionary ...\n",
      "DEBUG:jieba:Building prefix dict from the default dictionary ...\n",
      "Loading model from cache /var/folders/z7/4h871j5s4dzdtn7prw_6mf000000gn/T/jieba.cache\n",
      "DEBUG:jieba:Loading model from cache /var/folders/z7/4h871j5s4dzdtn7prw_6mf000000gn/T/jieba.cache\n",
      "Loading model cost 1.795 seconds.\n",
      "DEBUG:jieba:Loading model cost 1.795 seconds.\n",
      "Prefix dict has been built succesfully.\n",
      "DEBUG:jieba:Prefix dict has been built succesfully.\n",
      "Loading model cost 1.789 seconds.\n",
      "DEBUG:jieba:Loading model cost 1.789 seconds.\n",
      "Prefix dict has been built succesfully.\n",
      "DEBUG:jieba:Prefix dict has been built succesfully.\n",
      "Loading model cost 1.770 seconds.\n",
      "DEBUG:jieba:Loading model cost 1.770 seconds.\n",
      "Loading model cost 1.780 seconds.\n",
      "Prefix dict has been built succesfully.\n",
      "DEBUG:jieba:Loading model cost 1.780 seconds.\n",
      "DEBUG:jieba:Prefix dict has been built succesfully.\n",
      "Loading model cost 1.703 seconds.\n",
      "Prefix dict has been built succesfully.\n",
      "DEBUG:jieba:Loading model cost 1.703 seconds.\n",
      "DEBUG:jieba:Prefix dict has been built succesfully.\n",
      "Prefix dict has been built succesfully.\n",
      "DEBUG:jieba:Prefix dict has been built succesfully.\n",
      "Loading model cost 1.829 seconds.\n",
      "DEBUG:jieba:Loading model cost 1.829 seconds.\n",
      "Prefix dict has been built succesfully.\n",
      "DEBUG:jieba:Prefix dict has been built succesfully.\n",
      "Loading model cost 1.803 seconds.\n",
      "DEBUG:jieba:Loading model cost 1.803 seconds.\n",
      "Prefix dict has been built succesfully.\n",
      "DEBUG:jieba:Prefix dict has been built succesfully.\n",
      "Loading model cost 1.801 seconds.\n",
      "DEBUG:jieba:Loading model cost 1.801 seconds.\n",
      "Prefix dict has been built succesfully.\n",
      "DEBUG:jieba:Prefix dict has been built succesfully.\n"
     ]
    }
   ],
   "source": [
    "params={\n",
    "    'data_path':'data/baidu_95.csv',\n",
    "    'vocab_path':'data/',\n",
    "    'vocab_size':30000,\n",
    "    'padding_size':200,\n",
    "    'train_mode':\"multi_label\"\n",
    "}\n",
    "X_train, X_test, y_train, y_test = build_data(params)"
   ]
  },
  {
   "cell_type": "code",
   "execution_count": 61,
   "metadata": {},
   "outputs": [
    {
     "data": {
      "text/plain": [
       "(4516, 95)"
      ]
     },
     "execution_count": 61,
     "metadata": {},
     "output_type": "execute_result"
    }
   ],
   "source": [
    "y_test.shape"
   ]
  },
  {
   "cell_type": "code",
   "execution_count": 62,
   "metadata": {
    "collapsed": true
   },
   "outputs": [],
   "source": [
    "feature_size=padding_size\n",
    "embed_size=300\n",
    "num_classes=len(y_train[0])\n",
    "filter_sizes=[2,3,4]\n",
    "dropout_rate=0.5\n",
    "regularizers_lambda=0.01\n",
    "learning_rate=0.01\n",
    "batch_size=512\n",
    "epochs=10"
   ]
  },
  {
   "cell_type": "code",
   "execution_count": 64,
   "metadata": {
    "collapsed": true
   },
   "outputs": [],
   "source": [
    "from utils.metrics import micro_f1, macro_f1"
   ]
  },
  {
   "cell_type": "code",
   "execution_count": 70,
   "metadata": {},
   "outputs": [
    {
     "data": {
      "text/plain": [
       "95"
      ]
     },
     "execution_count": 70,
     "metadata": {},
     "output_type": "execute_result"
    }
   ],
   "source": [
    "num_classes\n"
   ]
  },
  {
   "cell_type": "code",
   "execution_count": null,
   "metadata": {
    "collapsed": true
   },
   "outputs": [],
   "source": [
    "textcnn =TextCNN(feature_size=feature_size, num_classes=num_classes,vocab_size=vocab_size, embed_size=embed_size, \n",
    "              filter_sizes = filter_sizes,num_filters = 2,train_mode = params['train_mode'])\n",
    "model = textcnn.build_model()\n",
    "model.compile(tf.optimizers.Adam(learning_rate=learning_rate), \n",
    "              loss='categorical_crossentropy',\n",
    "              metrics=[micro_f1, macro_f1])"
   ]
  },
  {
   "cell_type": "code",
   "execution_count": 72,
   "metadata": {
    "collapsed": true
   },
   "outputs": [],
   "source": [
    "from model.TextCNN.TextCNN import TextCNN"
   ]
  },
  {
   "cell_type": "code",
   "execution_count": 73,
   "metadata": {},
   "outputs": [
    {
     "name": "stdout",
     "output_type": "stream",
     "text": [
      "train_mode is: multi_label\n",
      "Model: \"model_2\"\n",
      "__________________________________________________________________________________________________\n",
      "Layer (type)                    Output Shape         Param #     Connected to                     \n",
      "==================================================================================================\n",
      "input_data (InputLayer)         [(None, 200)]        0                                            \n",
      "__________________________________________________________________________________________________\n",
      "embedding_7 (Embedding)         (None, 200, 300)     9000000     input_data[0][0]                 \n",
      "__________________________________________________________________________________________________\n",
      "add_channel (Reshape)           (None, 200, 300, 1)  0           embedding_7[0][0]                \n",
      "__________________________________________________________________________________________________\n",
      "convolution_2 (Conv2D)          (None, 199, 1, 2)    1202        add_channel[0][0]                \n",
      "__________________________________________________________________________________________________\n",
      "convolution_3 (Conv2D)          (None, 198, 1, 2)    1802        add_channel[0][0]                \n",
      "__________________________________________________________________________________________________\n",
      "convolution_4 (Conv2D)          (None, 197, 1, 2)    2402        add_channel[0][0]                \n",
      "__________________________________________________________________________________________________\n",
      "max_pooling_2 (MaxPooling2D)    (None, 1, 1, 2)      0           convolution_2[0][0]              \n",
      "__________________________________________________________________________________________________\n",
      "max_pooling_3 (MaxPooling2D)    (None, 1, 1, 2)      0           convolution_3[0][0]              \n",
      "__________________________________________________________________________________________________\n",
      "max_pooling_4 (MaxPooling2D)    (None, 1, 1, 2)      0           convolution_4[0][0]              \n",
      "__________________________________________________________________________________________________\n",
      "concatenate (Concatenate)       (None, 1, 1, 6)      0           max_pooling_2[0][0]              \n",
      "                                                                 max_pooling_3[0][0]              \n",
      "                                                                 max_pooling_4[0][0]              \n",
      "__________________________________________________________________________________________________\n",
      "flatten (Flatten)               (None, 6)            0           concatenate[0][0]                \n",
      "__________________________________________________________________________________________________\n",
      "dropout (Dropout)               (None, 6)            0           flatten[0][0]                    \n",
      "__________________________________________________________________________________________________\n",
      "dense_1 (Dense)                 (None, 95)           665         dropout[0][0]                    \n",
      "==================================================================================================\n",
      "Total params: 9,006,071\n",
      "Trainable params: 9,006,071\n",
      "Non-trainable params: 0\n",
      "__________________________________________________________________________________________________\n"
     ]
    }
   ],
   "source": [
    "textcnn =TextCNN(feature_size=feature_size, num_classes=num_classes,vocab_size=vocab_size, embed_size=embed_size, \n",
    "              filter_sizes = filter_sizes,num_filters = 2,train_mode = params['train_mode'])\n",
    "model = textcnn.build_model()\n",
    "model.compile(tf.optimizers.Adam(learning_rate=learning_rate), \n",
    "              loss='binary_crossentropy',\n",
    "              metrics=[micro_f1, macro_f1])"
   ]
  },
  {
   "cell_type": "code",
   "execution_count": 74,
   "metadata": {},
   "outputs": [
    {
     "name": "stdout",
     "output_type": "stream",
     "text": [
      "Train...\n",
      "Train on 18060 samples, validate on 4516 samples\n",
      "Epoch 1/10\n",
      "18060/18060 [==============================] - 43s 2ms/sample - loss: 0.3265 - micro_f1: 0.2752 - macro_f1: 0.0231 - val_loss: 0.1715 - val_micro_f1: 0.3995 - val_macro_f1: 0.0183\n",
      "Epoch 2/10\n",
      "18060/18060 [==============================] - 43s 2ms/sample - loss: 0.1545 - micro_f1: 0.4401 - macro_f1: 0.0619 - val_loss: 0.1335 - val_micro_f1: 0.4749 - val_macro_f1: 0.0968\n",
      "Epoch 3/10\n",
      "18060/18060 [==============================] - 41s 2ms/sample - loss: 0.1167 - micro_f1: 0.5916 - macro_f1: 0.1786 - val_loss: 0.1017 - val_micro_f1: 0.6719 - val_macro_f1: 0.2461\n",
      "Epoch 4/10\n",
      "18060/18060 [==============================] - 42s 2ms/sample - loss: 0.0871 - micro_f1: 0.7203 - macro_f1: 0.3160 - val_loss: 0.0841 - val_micro_f1: 0.7413 - val_macro_f1: 0.3481\n",
      "Epoch 5/10\n",
      "18060/18060 [==============================] - 36s 2ms/sample - loss: 0.0707 - micro_f1: 0.7813 - macro_f1: 0.4017 - val_loss: 0.0782 - val_micro_f1: 0.7599 - val_macro_f1: 0.3752\n",
      "Epoch 6/10\n",
      "18060/18060 [==============================] - 35s 2ms/sample - loss: 0.0628 - micro_f1: 0.8056 - macro_f1: 0.4516 - val_loss: 0.0759 - val_micro_f1: 0.7756 - val_macro_f1: 0.4153\n",
      "Epoch 7/10\n",
      "18060/18060 [==============================] - 39s 2ms/sample - loss: 0.0578 - micro_f1: 0.8210 - macro_f1: 0.4901 - val_loss: 0.0754 - val_micro_f1: 0.7819 - val_macro_f1: 0.4294\n",
      "Epoch 8/10\n",
      "18060/18060 [==============================] - 46s 3ms/sample - loss: 0.0539 - micro_f1: 0.8344 - macro_f1: 0.5202 - val_loss: 0.0764 - val_micro_f1: 0.7837 - val_macro_f1: 0.4564\n",
      "Epoch 9/10\n",
      "18060/18060 [==============================] - 48s 3ms/sample - loss: 0.0510 - micro_f1: 0.8427 - macro_f1: 0.5468 - val_loss: 0.0767 - val_micro_f1: 0.7905 - val_macro_f1: 0.4919\n",
      "Epoch 10/10\n",
      "18060/18060 [==============================] - 46s 3ms/sample - loss: 0.0485 - micro_f1: 0.8518 - macro_f1: 0.5746 - val_loss: 0.0780 - val_micro_f1: 0.7932 - val_macro_f1: 0.5029\n"
     ]
    }
   ],
   "source": [
    "print('Train...')\n",
    "early_stopping = EarlyStopping(monitor='val_micro_f1', patience=10, mode='max')\n",
    "\n",
    "history = model.fit(X_train, y_train,\n",
    "          batch_size=batch_size,\n",
    "          epochs=epochs,\n",
    "          workers=32,\n",
    "          use_multiprocessing=True,\n",
    "          callbacks=[early_stopping],\n",
    "          validation_data=(X_test, y_test))"
   ]
  },
  {
   "cell_type": "code",
   "execution_count": 75,
   "metadata": {
    "collapsed": true
   },
   "outputs": [],
   "source": [
    "y_pred=model.predict(X_test)"
   ]
  },
  {
   "cell_type": "code",
   "execution_count": 76,
   "metadata": {
    "collapsed": true
   },
   "outputs": [],
   "source": [
    "y_pred = np.where(y_pred>0.5,1,0)"
   ]
  },
  {
   "cell_type": "code",
   "execution_count": 77,
   "metadata": {
    "collapsed": true
   },
   "outputs": [],
   "source": [
    "from sklearn.metrics import f1_score,accuracy_score"
   ]
  },
  {
   "cell_type": "code",
   "execution_count": 78,
   "metadata": {},
   "outputs": [
    {
     "data": {
      "text/plain": [
       "0.7748147763719023"
      ]
     },
     "execution_count": 78,
     "metadata": {},
     "output_type": "execute_result"
    }
   ],
   "source": [
    "f1_score(y_test,y_pred,average='samples')"
   ]
  },
  {
   "cell_type": "code",
   "execution_count": 82,
   "metadata": {},
   "outputs": [],
   "source": [
    "true_false = tf.equal(y_test, y_pred)"
   ]
  },
  {
   "cell_type": "code",
   "execution_count": 85,
   "metadata": {},
   "outputs": [],
   "source": [
    "import tensorflow.keras.backend as K"
   ]
  },
  {
   "cell_type": "code",
   "execution_count": 87,
   "metadata": {
    "scrolled": true
   },
   "outputs": [
    {
     "data": {
      "text/plain": [
       "0.9759941261479651"
      ]
     },
     "execution_count": 87,
     "metadata": {},
     "output_type": "execute_result"
    }
   ],
   "source": [
    "K.sum(tf.cast(true_false,tf.float32)).numpy()/(len(y_pred)*len(y_pred[0]))"
   ]
  },
  {
   "cell_type": "code",
   "execution_count": 79,
   "metadata": {
    "scrolled": false
   },
   "outputs": [
    {
     "name": "stdout",
     "output_type": "stream",
     "text": [
      "{'loss': [0.3265230028039197,\n",
      "          0.15451037952736235,\n",
      "          0.11669086494781118,\n",
      "          0.08709802281354881,\n",
      "          0.07074120006093947,\n",
      "          0.06282654411983517,\n",
      "          0.05780409242244126,\n",
      "          0.053924553092168946,\n",
      "          0.05099745854025795,\n",
      "          0.04848601523774407],\n",
      " 'macro_f1': [0.023060482,\n",
      "              0.061897106,\n",
      "              0.17855515,\n",
      "              0.31598005,\n",
      "              0.40174186,\n",
      "              0.45159546,\n",
      "              0.49013436,\n",
      "              0.52024275,\n",
      "              0.54680693,\n",
      "              0.5746394],\n",
      " 'micro_f1': [0.2751665,\n",
      "              0.4401221,\n",
      "              0.59159017,\n",
      "              0.72027284,\n",
      "              0.78127086,\n",
      "              0.8055879,\n",
      "              0.8209994,\n",
      "              0.8344183,\n",
      "              0.84271836,\n",
      "              0.8518493],\n",
      " 'val_loss': [0.17146505316450492,\n",
      "              0.13348466573667483,\n",
      "              0.10165445587743796,\n",
      "              0.08409562306371382,\n",
      "              0.07824639651340336,\n",
      "              0.07594337256953608,\n",
      "              0.07536188266887614,\n",
      "              0.0763979813395822,\n",
      "              0.0767175824809539,\n",
      "              0.07800007107328587],\n",
      " 'val_macro_f1': [0.018334152,\n",
      "                  0.09680318,\n",
      "                  0.24609831,\n",
      "                  0.3480546,\n",
      "                  0.3751977,\n",
      "                  0.41530767,\n",
      "                  0.42938125,\n",
      "                  0.45643923,\n",
      "                  0.4918779,\n",
      "                  0.5029349],\n",
      " 'val_micro_f1': [0.39947283,\n",
      "                  0.47486734,\n",
      "                  0.67192686,\n",
      "                  0.7413157,\n",
      "                  0.75990856,\n",
      "                  0.77562314,\n",
      "                  0.78194994,\n",
      "                  0.7837377,\n",
      "                  0.79050446,\n",
      "                  0.7931827]}\n"
     ]
    }
   ],
   "source": [
    "pprint(history.history)"
   ]
  },
  {
   "cell_type": "code",
   "execution_count": 89,
   "metadata": {
    "collapsed": true
   },
   "outputs": [],
   "source": [
    "from utils.config import root"
   ]
  },
  {
   "cell_type": "code",
   "execution_count": 90,
   "metadata": {
    "scrolled": true
   },
   "outputs": [],
   "source": [
    "save_path = os.path.join(root,'saved_model',\"TextCNN.h5\")\n",
    "tf.keras.models.save_model(model, save_path)"
   ]
  },
  {
   "cell_type": "code",
   "execution_count": null,
   "metadata": {
    "collapsed": true
   },
   "outputs": [],
   "source": []
  }
 ],
 "metadata": {
  "kernelspec": {
   "display_name": "lecture03_tf2",
   "language": "python",
   "name": "lecture03_tf2"
  },
  "language_info": {
   "codemirror_mode": {
    "name": "ipython",
    "version": 3
   },
   "file_extension": ".py",
   "mimetype": "text/x-python",
   "name": "python",
   "nbconvert_exporter": "python",
   "pygments_lexer": "ipython3",
   "version": "3.6.7"
  }
 },
 "nbformat": 4,
 "nbformat_minor": 2
}
